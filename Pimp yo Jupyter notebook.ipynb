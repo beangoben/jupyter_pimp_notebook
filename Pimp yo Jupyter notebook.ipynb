{
 "cells": [
  {
   "cell_type": "markdown",
   "metadata": {},
   "source": [
    "# 1 Useful\n"
   ]
  },
  {
   "cell_type": "markdown",
   "metadata": {},
   "source": [
    "## Nb extensions\n",
    "[https://github.com/ipython-contrib/IPython-notebook-extensions](https://github.com/ipython-contrib/IPython-notebook-extensions)"
   ]
  },
  {
   "cell_type": "markdown",
   "metadata": {},
   "source": [
    "## Jupyter Rise (Slideshow)\n",
    "[https://github.com/damianavila/RISE](https://github.com/damianavila/RISE)\n",
    "\n",
    "### [Example](http://bollwyvl.github.io/live_reveal/#/3)"
   ]
  },
  {
   "cell_type": "markdown",
   "metadata": {},
   "source": [
    "## Nbpresent\n",
    "[https://github.com/Anaconda-Platform/nbpresent](https://github.com/Anaconda-Platform/nbpresent)"
   ]
  },
  {
   "cell_type": "markdown",
   "metadata": {},
   "source": [
    "## Shell commands with **!**"
   ]
  },
  {
   "cell_type": "code",
   "execution_count": 10,
   "metadata": {
    "collapsed": false
   },
   "outputs": [
    {
     "name": "stdout",
     "output_type": "stream",
     "text": [
      "anaconda2\t\t   Downloads\t\t\t   QuantumChem\r\n",
      "BenSanchez_GAC_report.pdf  NVIDIA_CUDA-7.5_Samples\t   sketchbook\r\n",
      "Clementine\t\t   Pictures\t\t\t   Software\r\n",
      "Desktop\t\t\t   Pimp yo Jupyter notebook.ipynb  Videos\r\n",
      "Documents\t\t   projects\t\t\t   www\r\n"
     ]
    }
   ],
   "source": [
    "!ls"
   ]
  },
  {
   "cell_type": "markdown",
   "metadata": {},
   "source": [
    "## Magic commands\n",
    "[http://ipython.readthedocs.io/en/stable/interactive/magics.html](http://ipython.readthedocs.io/en/stable/interactive/magics.html)\n",
    "\n",
    "### Really good: Code reload"
   ]
  },
  {
   "cell_type": "code",
   "execution_count": null,
   "metadata": {
    "collapsed": true
   },
   "outputs": [],
   "source": [
    "%load_ext autoreload\n",
    "%autoreload 2"
   ]
  },
  {
   "cell_type": "markdown",
   "metadata": {},
   "source": [
    "## Tab completion\n",
    "\n",
    "Write code and press tab... it's that easy!"
   ]
  },
  {
   "cell_type": "code",
   "execution_count": 18,
   "metadata": {
    "collapsed": true
   },
   "outputs": [],
   "source": [
    "import numpy\n",
    "\n",
    "numpy.ar"
   ]
  },
  {
   "cell_type": "markdown",
   "metadata": {},
   "source": [
    "## Conda+ Jupyter\n",
    "\n",
    "[https://github.com/Anaconda-Platform/anaconda-nb-extensions](https://github.com/Anaconda-Platform/anaconda-nb-extensions)\n",
    "\n",
    "[https://github.com/Anaconda-Platform/nb_conda](https://github.com/Anaconda-Platform/nb_conda)\n"
   ]
  },
  {
   "cell_type": "markdown",
   "metadata": {
    "collapsed": true
   },
   "source": [
    "# 2 Appearence\n",
    "\n",
    "## Plots\n",
    "\n",
    "Check [https://stanford.edu/~mwaskom/software/seaborn/tutorial/aesthetics.html](https://stanford.edu/~mwaskom/software/seaborn/tutorial/aesthetics.html)\n",
    "\n",
    "In particular\n",
    "\n",
    "### sns.despine()"
   ]
  },
  {
   "cell_type": "code",
   "execution_count": 5,
   "metadata": {
    "collapsed": true
   },
   "outputs": [],
   "source": [
    "def awesome_settings():\n",
    "    # awesome plot options\n",
    "    sns.set_style(\"white\")\n",
    "    sns.set_style(\"ticks\")\n",
    "    sns.set_context(\"paper\", font_scale=2)\n",
    "    sns.set_palette(sns.color_palette(\"deep\"))\n",
    "    # image stuff\n",
    "    plt.rcParams['figure.figsize'] = (12.0, 6.0)\n",
    "    plt.rcParams['savefig.dpi'] = 60\n",
    "    plt.rcParams['lines.linewidth'] = 2\n",
    "\n",
    "    return"
   ]
  },
  {
   "cell_type": "code",
   "execution_count": 6,
   "metadata": {
    "collapsed": false
   },
   "outputs": [],
   "source": [
    "import matplotlib.pyplot as plt\n",
    "import seaborn as sns\n",
    "import numpy as np\n",
    "\n",
    "%matplotlib inline\n",
    "awesome_settings()"
   ]
  },
  {
   "cell_type": "markdown",
   "metadata": {},
   "source": [
    "Colors: [https://stanford.edu/~mwaskom/software/seaborn/tutorial/color_palettes.html](https://stanford.edu/~mwaskom/software/seaborn/tutorial/color_palettes.html)"
   ]
  },
  {
   "cell_type": "code",
   "execution_count": 16,
   "metadata": {
    "collapsed": false,
    "scrolled": true
   },
   "outputs": [
    {
     "data": {
      "image/png": "[encoded data removed]",
      "text/plain": [
       "<matplotlib.figure.Figure at 0x7fb0151399b0>"
      ]
     },
     "metadata": {},
     "output_type": "display_data"
    }
   ],
   "source": [
    "t = np.arange(0.0, 2.0, 0.01)\n",
    "s = np.sin(2*np.pi*t)\n",
    "plt.plot(t, s,label='Sine')\n",
    "plt.xlabel('x')\n",
    "plt.ylabel('y')\n",
    "plt.title('Easy peasy')\n",
    "plt.grid(False)\n",
    "sns.despine(offset=10)\n",
    "plt.legend(loc='best')\n",
    "plt.show()"
   ]
  },
  {
   "cell_type": "markdown",
   "metadata": {},
   "source": [
    "## HTML styling\n",
    "\n",
    "Load custom code at **.jupyter/custom** with **custom.css** and **custom.js**"
   ]
  },
  {
   "cell_type": "code",
   "execution_count": 7,
   "metadata": {
    "collapsed": false
   },
   "outputs": [
    {
     "name": "stdout",
     "output_type": "stream",
     "text": [
      "body {\r\n",
      "    font-family: Lato, sans;\r\n",
      "}\r\n",
      "\r\n",
      "\r\n",
      "div #notebook { /* centre the content */\r\n",
      "    background: #fff; /* white background for content */\r\n",
      "    /*width: 1000px;*/\r\n",
      "    margin: auto;\r\n",
      "    padding-left: 1em;\r\n",
      "}\r\n",
      "\r\n",
      "div.cell { /* set cell width to about 80 chars */\r\n",
      "    /*width: 900px;*/\r\n",
      "}\r\n",
      "\r\n",
      "\r\n",
      "/* draw border around running cells */\r\n",
      "div.cell.border-box-sizing.code_cell.running {\r\n",
      "    border: 3px solid #D23;\r\n",
      "}\r\n",
      "\r\n",
      ".text_cell_render h1 {\r\n",
      "    font-weight: 400;\r\n",
      "    font-size: 32pt;\r\n",
      "    line-height: 100%;\r\n",
      "    color: #4271ae;\r\n",
      "    margin-bottom: 0.1em;\r\n",
      "    margin-top: 0.1em;\r\n",
      "    display: block;\r\n",
      "}\r\n",
      "\r\n",
      ".text_cell_render h2 {\r\n",
      "    font-weight: 300;\r\n",
      "    line-height: 100%;\r\n",
      "    color: #3e999f;\r\n",
      "    margin-bottom: 0.1em;\r\n",
      "    margin-top: 0.1em;\r\n",
      "    display: block;\r\n",
      "}\r\n",
      "\r\n",
      ".text_cell_render h3 {\r\n",
      "    font-weight: 300;\r\n",
      "    margin-top:12px;\r\n",
      "    margin-bottom: 3px;\r\n",
      "    color: #718c00;\r\n",
      "}\r\n",
      "\r\n",
      ".text_cell_render h4 {\r\n",
      "    font-weight: 300;\r\n"
     ]
    }
   ],
   "source": [
    "!head  -50 ~/.jupyter/custom/custom.css"
   ]
  },
  {
   "cell_type": "code",
   "execution_count": 8,
   "metadata": {
    "collapsed": false
   },
   "outputs": [
    {
     "name": "stdout",
     "output_type": "stream",
     "text": [
      "\r\n",
      "\r\n",
      "if (Jupyter) {\r\n",
      "  $(Jupyter.events).on(\"app_initialized.NotebookApp\", function() {\r\n",
      "\r\n",
      "    var utils = require(\"base/js/utils\");\r\n",
      "    IPython.Cell.options_default.cm_config.lineNumbers = true;\r\n",
      "\r\n",
      "  });\r\n",
      "} else {\r\n",
      "  $([IPython.events]).on(\"app_initialized.NotebookApp\", function() {\r\n",
      "    IPython.Cell.options_default.cm_config.lineNumbers = true;\r\n",
      "  });\r\n",
      "}\r\n",
      "\r\n",
      "IPython.Cell.options_default.cm_config.lineNumbers = true;\r\n"
     ]
    }
   ],
   "source": [
    "!head  -50 ~/.jupyter/custom/custom.js"
   ]
  },
  {
   "cell_type": "markdown",
   "metadata": {},
   "source": [
    "## Styling extensions\n",
    "\n",
    "[https://github.com/merqurio/jupyter_themes](https://github.com/merqurio/jupyter_themes)"
   ]
  },
  {
   "cell_type": "markdown",
   "metadata": {},
   "source": [
    "# 3 Docker tricks\n",
    "\n",
    "## mybinder\n",
    "http://mybinder.org/\n",
    "\n",
    "Try a already to go github repository:\n",
    "\n",
    "[https://github.com/ctb/2016-mybinder-inflammation](https://github.com/ctb/2016-mybinder-inflammation)\n",
    "\n",
    "[http://mybinder.org/repo/ctb/2016-mybinder-inflammation](http://mybinder.org/repo/ctb/2016-mybinder-inflammation)"
   ]
  },
  {
   "cell_type": "markdown",
   "metadata": {},
   "source": [
    "## Docker\n",
    "\n",
    "https://www.docker.com/"
   ]
  },
  {
   "cell_type": "markdown",
   "metadata": {},
   "source": [
    "## jupyter notebook docker\n",
    "Premade at:\n",
    "[https://github.com/jupyter/docker-stacks](https://github.com/jupyter/docker-stacks)"
   ]
  },
  {
   "cell_type": "markdown",
   "metadata": {},
   "source": [
    "## Jupyterhub server docker\n",
    "\n",
    "[https://hub.docker.com/r/jupyterhub/jupyterhub/](https://hub.docker.com/r/jupyterhub/jupyterhub/)"
   ]
  },
  {
   "cell_type": "code",
   "execution_count": null,
   "metadata": {
    "collapsed": true
   },
   "outputs": [],
   "source": [
    "docker run -d -p 8888:8888 --name jupyterhub jupyter/jupyterhub jupyterhub"
   ]
  },
  {
   "cell_type": "markdown",
   "metadata": {},
   "source": [
    "## Anaconda+ RDKit+ Openbabel + other stuff docker image\n",
    "[https://hub.docker.com/r/beangoben/qcjupyter/](https://hub.docker.com/r/beangoben/qcjupyter/)"
   ]
  },
  {
   "cell_type": "code",
   "execution_count": null,
   "metadata": {
    "collapsed": true
   },
   "outputs": [],
   "source": [
    "docker run -d -p 8888:8888 -v /home/beangoben/:/home/jovyan/work beangoben/qcjupyter start-notebook.sh"
   ]
  },
  {
   "cell_type": "markdown",
   "metadata": {},
   "source": [
    "# 4 Education\n",
    "## Blogging:"
   ]
  },
  {
   "cell_type": "markdown",
   "metadata": {},
   "source": [
    "* One example: https://blog.wearewizards.io/the-hacker-news-effect-examined\n",
    "* https://github.com/danielfrg/pelican-ipynb\n",
    "* http://predictablynoisy.com/blogging-in-wordpress-with-ipython-jupyter-notebooks/\n",
    "* https://github.com/justanr/ipynb_reader"
   ]
  },
  {
   "cell_type": "markdown",
   "metadata": {},
   "source": [
    "## Grading\n",
    "\n",
    "[https://github.com/jupyter/nbgrader](https://github.com/jupyter/nbgrader)\n"
   ]
  },
  {
   "cell_type": "markdown",
   "metadata": {},
   "source": [
    "## Next gen online content: O'reilly's Oriole\n",
    "[http://www.oreilly.com/oriole/](http://www.oreilly.com/oriole/)"
   ]
  },
  {
   "cell_type": "code",
   "execution_count": null,
   "metadata": {
    "collapsed": true
   },
   "outputs": [],
   "source": []
  }
 ],
 "metadata": {
  "kernelspec": {
   "display_name": "Python 3",
   "language": "python",
   "name": "python3"
  },
  "language_info": {
   "codemirror_mode": {
    "name": "ipython",
    "version": 3
   },
   "file_extension": ".py",
   "mimetype": "text/x-python",
   "name": "python",
   "nbconvert_exporter": "python",
   "pygments_lexer": "ipython3",
   "version": "3.5.0"
  }
 },
 "nbformat": 4,
 "nbformat_minor": 0
}
